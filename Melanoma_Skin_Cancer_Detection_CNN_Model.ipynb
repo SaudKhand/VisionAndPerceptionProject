{
  "cells": [
    {
      "cell_type": "code",
      "execution_count": 1,
      "metadata": {
        "colab": {
          "base_uri": "https://localhost:8080/"
        },
        "id": "WN0XENtm37Pg",
        "outputId": "61c2c2c8-8e86-4256-d630-40fd5c0c4141"
      },
      "outputs": [
        {
          "output_type": "stream",
          "name": "stdout",
          "text": [
            "Mounted at /content/drive\n"
          ]
        }
      ],
      "source": [
        "from google.colab import drive\n",
        "drive.mount('/content/drive')"
      ]
    },
    {
      "cell_type": "code",
      "execution_count": null,
      "metadata": {
        "colab": {
          "base_uri": "https://localhost:8080/"
        },
        "id": "OnHwOmrj4Nq4",
        "outputId": "d24d4fb2-0ca3-4b5a-83e6-d5bee2b1d714"
      },
      "outputs": [
        {
          "output_type": "stream",
          "name": "stdout",
          "text": [
            "drive  sample_data\n"
          ]
        }
      ],
      "source": [
        "!ls"
      ]
    },
    {
      "cell_type": "code",
      "execution_count": null,
      "metadata": {
        "id": "uOVV_bHz4WWK"
      },
      "outputs": [],
      "source": [
        "#!wget https://isic-challenge-data.s3.amazonaws.com/2020/ISIC_2020_Training_JPEG.zip\n",
        "#import shutil\n",
        "#shutil.unpack_archive('ISIC_2020_Training_JPEG.zip', 'data/')\n"
      ]
    },
    {
      "cell_type": "code",
      "execution_count": 2,
      "metadata": {
        "id": "Kv8VcaU543ZS"
      },
      "outputs": [],
      "source": [
        "\n",
        "import os\n",
        "import cv2\n",
        "import numpy as np\n",
        "import pandas as pd\n",
        "import tensorflow as tf\n",
        "from tensorflow.keras import layers\n",
        "from tensorflow.keras.models import Sequential\n",
        "from tensorflow.keras.optimizers import Adam\n",
        "import matplotlib.pyplot as plt\n",
        "from sklearn.metrics import classification_report, accuracy_score\n",
        "from tqdm import tqdm\n",
        "%matplotlib inline\n",
        "#from keras.preprocessing import image\n",
        "import tensorflow.keras.applications.densenet as dense\n",
        "import seaborn as sns"
      ]
    },
    {
      "cell_type": "code",
      "source": [
        "train_img_dir = 'drive/MyDrive/Vision/data/train/'\n",
        "train = pd.read_csv('drive/MyDrive/Vision/data/ISIC_2020_Training_GroundTruth_v2.csv')\n"
      ],
      "metadata": {
        "id": "E17vqJkyAK0h"
      },
      "execution_count": 3,
      "outputs": []
    },
    {
      "cell_type": "markdown",
      "source": [
        "## Function to read the images, reduce its size to 128x128 and normalize its pixel values"
      ],
      "metadata": {
        "id": "l3SAvXA1AMSU"
      }
    },
    {
      "cell_type": "code",
      "execution_count": 4,
      "metadata": {
        "colab": {
          "base_uri": "https://localhost:8080/"
        },
        "id": "sUMGVxONX9u1",
        "outputId": "8bad8d54-0eac-48d5-cfa9-f83b55f661d4"
      },
      "outputs": [
        {
          "output_type": "stream",
          "name": "stdout",
          "text": [
            "33126\n"
          ]
        }
      ],
      "source": [
        "import cv2\n",
        "def read_img(img):\n",
        "  my_img=cv2.imread(img)\n",
        "  my_img=cv2.resize(my_img,(128,128))\n",
        "  my_img=my_img/255.0\n",
        "  \n",
        "  return my_img\n",
        "print(len(train))"
      ]
    },
    {
      "cell_type": "markdown",
      "source": [
        "## We saw in the EDA that our data is highly imbalanced. So we use this data augmentation function to augment our data"
      ],
      "metadata": {
        "id": "mw7rNcR3AXLY"
      }
    },
    {
      "cell_type": "code",
      "execution_count": 5,
      "metadata": {
        "id": "RrmXKZaIlI1l"
      },
      "outputs": [],
      "source": [
        "data_augmentation = tf.keras.Sequential([\n",
        "  layers.RandomFlip(\"horizontal_and_vertical\"),\n",
        "  layers.RandomRotation(0.2),\n",
        "])"
      ]
    },
    {
      "cell_type": "markdown",
      "source": [
        "## We use 5000 samples of Benign Images for training.\n",
        "## We augment the samples of melanoma such that for each image 8 augmented images of melanoma for making the dataset balanced."
      ],
      "metadata": {
        "id": "hKMxFM6tAeYw"
      }
    },
    {
      "cell_type": "code",
      "execution_count": null,
      "metadata": {
        "colab": {
          "base_uri": "https://localhost:8080/"
        },
        "id": "1WT_kHdTXvjF",
        "outputId": "53f98017-c9f1-4a01-a3b1-744b35f0ce88"
      },
      "outputs": [
        {
          "output_type": "stream",
          "name": "stderr",
          "text": [
            "100%|██████████| 5000/5000 [40:58<00:00,  2.03it/s]\n"
          ]
        },
        {
          "output_type": "stream",
          "name": "stdout",
          "text": [
            "5000\n"
          ]
        },
        {
          "output_type": "stream",
          "name": "stderr",
          "text": [
            "100%|██████████| 584/584 [04:16<00:00,  2.27it/s]"
          ]
        },
        {
          "output_type": "stream",
          "name": "stdout",
          "text": [
            "9672\n"
          ]
        },
        {
          "output_type": "stream",
          "name": "stderr",
          "text": [
            "\n"
          ]
        }
      ],
      "source": [
        "from tqdm import tqdm\n",
        "data=[]\n",
        "labels=[]\n",
        "counts=0\n",
        "with tqdm(total=5000) as pbar:\n",
        "  for i in range(len(train)):\n",
        "      if train.target.iloc[i] == 0:\n",
        "        counts=counts+1\n",
        "        if counts<=5000:\n",
        "\n",
        "          #print(train_img_dir+train['image_name'].iloc[i]+'.jpg')\n",
        "          data.append(read_img(train_img_dir+train['image_name'].iloc[i]+'.jpg'))\n",
        "          labels.append(train['target'].iloc[i])\n",
        "          pbar.update(1)\n",
        "print(len(data))\n",
        "\n",
        "with tqdm(total=584) as pbar:\n",
        "\n",
        "  for i in range(len(train)):\n",
        "    if train.target.iloc[i] == 1:\n",
        "      img=read_img(train_img_dir+train['image_name'].iloc[i]+'.jpg')\n",
        "      pbar.update(1)\n",
        "      for j in range (0,8):\n",
        "        data.append(data_augmentation(img))\n",
        "        labels.append(train['target'].iloc[i])\n",
        "\n",
        "print(len(data))\n",
        "#df=pd.DataFrame(data)\n",
        "#df.columns=['images']\n",
        "#df['target']=labels"
      ]
    },
    {
      "cell_type": "markdown",
      "source": [
        "## Convert the augmented data and labels \n",
        "## Dump them into pickle file so that we can use them in other models as well. "
      ],
      "metadata": {
        "id": "QC_A2h6GAxxr"
      }
    },
    {
      "cell_type": "code",
      "execution_count": null,
      "metadata": {
        "id": "baeXTUPts6PP"
      },
      "outputs": [],
      "source": [
        "data=np.array(data)\n",
        "labels=np.array(labels)"
      ]
    },
    {
      "cell_type": "code",
      "execution_count": null,
      "metadata": {
        "id": "tQrxmFaFKg0I"
      },
      "outputs": [],
      "source": [
        "import pickle\n",
        "with open('drive/MyDrive/datax.pkl','wb') as f:\n",
        "  pickle.dump(data, f)\n",
        "\n",
        "with open('drive/MyDrive/labelsx.pkl','wb') as f:\n",
        "  pickle.dump(labels, f)\n"
      ]
    },
    {
      "cell_type": "markdown",
      "source": [
        "## Loading the saved data and corresponding labels"
      ],
      "metadata": {
        "id": "W13otJ4wA_js"
      }
    },
    {
      "cell_type": "code",
      "execution_count": 6,
      "metadata": {
        "id": "j5uxSdmSsEig"
      },
      "outputs": [],
      "source": [
        "data=[]\n",
        "labels=[]\n",
        "import pickle\n",
        "with open('drive/MyDrive/datax.pkl','rb') as f:\n",
        "  data=pickle.load(f)\n",
        "\n",
        "with open('drive/MyDrive/labelsx.pkl','rb') as f:\n",
        "  labels=pickle.load(f)\n",
        "\n"
      ]
    },
    {
      "cell_type": "markdown",
      "source": [
        "## Split the data into training testing and validation\n",
        "## Training data percentage = 70%\n",
        "## Validation data percentage= 10%\n",
        "## Testing data percentage= 10%"
      ],
      "metadata": {
        "id": "URTGoZYJBI_g"
      }
    },
    {
      "cell_type": "code",
      "execution_count": null,
      "metadata": {
        "colab": {
          "base_uri": "https://localhost:8080/",
          "height": 53
        },
        "id": "eVPxjGgOl6ZK",
        "outputId": "cfbcad2f-7201-40c0-e54d-11ceffda4191"
      },
      "outputs": [
        {
          "output_type": "execute_result",
          "data": {
            "text/plain": [
              "\"train_gen = pd.DataFrame({'image_dir': x_train, 'target': y_train})\\nval_gen = pd.DataFrame({'image_dir': x_val, 'target': y_val})\\ntest_gen=pd.DataFrame({'image_dir': x_test, 'target': y_test})\\ntest_gen\""
            ],
            "application/vnd.google.colaboratory.intrinsic+json": {
              "type": "string"
            }
          },
          "metadata": {},
          "execution_count": 7
        }
      ],
      "source": [
        "from sklearn.model_selection import train_test_split\n",
        "x_train,x_test,y_train,y_test=train_test_split(data,labels,test_size=0.3,random_state=42, shuffle=True)\n",
        "\n",
        "x_test,x_val,y_test,y_val=train_test_split(x_test,y_test,test_size=0.5,random_state=42, shuffle=True)\n",
        "\n"
      ]
    },
    {
      "cell_type": "markdown",
      "source": [
        "## For saving memory"
      ],
      "metadata": {
        "id": "zPcaQnCDBWmR"
      }
    },
    {
      "cell_type": "code",
      "execution_count": null,
      "metadata": {
        "id": "IStlXIv9HPi7"
      },
      "outputs": [],
      "source": [
        "del data\n",
        "del labels"
      ]
    },
    {
      "cell_type": "markdown",
      "source": [
        "## OUR MODEL\n",
        "\n",
        "## Input shape = 128x128\n",
        "\n",
        "## Conv2D= 2\n",
        "## Max_Pooling layers= 2\n",
        "## Dense Layers = 2\n",
        "## Flatten layer= 1\n",
        "## Dropout of 0.5 to prevent from overfitting\n",
        "\n",
        "## Optimizer Adam\n",
        "## Loss= Binary Crossentropy \n",
        "## Activation Function= Sigmoid \n",
        "\n"
      ],
      "metadata": {
        "id": "FZi-I0W4bnv7"
      }
    },
    {
      "cell_type": "code",
      "execution_count": null,
      "metadata": {
        "colab": {
          "base_uri": "https://localhost:8080/"
        },
        "id": "1knlGngt-USI",
        "outputId": "bed3c171-6e97-46c9-fceb-b19ed1193c99"
      },
      "outputs": [
        {
          "output_type": "stream",
          "name": "stdout",
          "text": [
            "Model: \"sequential\"\n",
            "_________________________________________________________________\n",
            " Layer (type)                Output Shape              Param #   \n",
            "=================================================================\n",
            " conv2d (Conv2D)             (None, 126, 126, 64)      1792      \n",
            "                                                                 \n",
            " max_pooling2d (MaxPooling2D  (None, 63, 63, 64)       0         \n",
            " )                                                               \n",
            "                                                                 \n",
            " dropout (Dropout)           (None, 63, 63, 64)        0         \n",
            "                                                                 \n",
            " conv2d_1 (Conv2D)           (None, 61, 61, 32)        18464     \n",
            "                                                                 \n",
            " max_pooling2d_1 (MaxPooling  (None, 30, 30, 32)       0         \n",
            " 2D)                                                             \n",
            "                                                                 \n",
            " dropout_1 (Dropout)         (None, 30, 30, 32)        0         \n",
            "                                                                 \n",
            " flatten (Flatten)           (None, 28800)             0         \n",
            "                                                                 \n",
            " dense (Dense)               (None, 128)               3686528   \n",
            "                                                                 \n",
            " dropout_2 (Dropout)         (None, 128)               0         \n",
            "                                                                 \n",
            " dense_1 (Dense)             (None, 1)                 129       \n",
            "                                                                 \n",
            "=================================================================\n",
            "Total params: 3,706,913\n",
            "Trainable params: 3,706,913\n",
            "Non-trainable params: 0\n",
            "_________________________________________________________________\n"
          ]
        }
      ],
      "source": [
        "model = tf.keras.models.Sequential()\n",
        "\n",
        "# Convolutional & Max Pooling layers\n",
        "\n",
        "model.add(tf.keras.layers.Conv2D(64, kernel_size=(3, 3), activation='relu', input_shape=(128,128,3)))\n",
        "model.add(tf.keras.layers.MaxPooling2D())\n",
        "model.add(tf.keras.layers.Dropout(0.5))\n",
        "model.add(tf.keras.layers.Conv2D(32, kernel_size=(3, 3), activation='relu'))\n",
        "model.add(tf.keras.layers.MaxPooling2D())\n",
        "model.add(tf.keras.layers.Dropout(0.5))\n",
        "# Flatten & Dense layers\n",
        "\n",
        "model.add(tf.keras.layers.Flatten())\n",
        "model.add(tf.keras.layers.Dense(128, activation='relu'))\n",
        "model.add(tf.keras.layers.Dropout(0.5))\n",
        "\n",
        "# performing binary classification\n",
        "model.add(tf.keras.layers.Dense(1, activation='sigmoid'))\n",
        "\n",
        "model.compile(optimizer='adam',\n",
        "                loss = tf.keras.losses.binary_crossentropy,\n",
        "                metrics=['accuracy'])\n",
        "\n",
        "model.summary()"
      ]
    },
    {
      "cell_type": "markdown",
      "source": [
        "## Training the model and saving the weights"
      ],
      "metadata": {
        "id": "_iyWr6LlCP5V"
      }
    },
    {
      "cell_type": "code",
      "execution_count": null,
      "metadata": {
        "colab": {
          "base_uri": "https://localhost:8080/"
        },
        "id": "_q9Sf4TQBlI8",
        "outputId": "cc072a6a-cc41-4940-9386-9806727d3a37"
      },
      "outputs": [
        {
          "output_type": "stream",
          "name": "stdout",
          "text": [
            "Epoch 1/50\n",
            "212/212 [==============================] - ETA: 0s - loss: 0.7472 - accuracy: 0.5517\n",
            "Epoch 1: val_loss improved from inf to 0.64045, saving model to drive/MyDrive/Vision/weights.hdf5\n",
            "212/212 [==============================] - 20s 35ms/step - loss: 0.7472 - accuracy: 0.5517 - val_loss: 0.6404 - val_accuracy: 0.6382\n",
            "Epoch 2/50\n",
            "210/212 [============================>.] - ETA: 0s - loss: 0.5944 - accuracy: 0.6871\n",
            "Epoch 2: val_loss improved from 0.64045 to 0.54547, saving model to drive/MyDrive/Vision/weights.hdf5\n",
            "212/212 [==============================] - 6s 27ms/step - loss: 0.5946 - accuracy: 0.6873 - val_loss: 0.5455 - val_accuracy: 0.7285\n",
            "Epoch 3/50\n",
            "210/212 [============================>.] - ETA: 0s - loss: 0.5339 - accuracy: 0.7424\n",
            "Epoch 3: val_loss improved from 0.54547 to 0.49019, saving model to drive/MyDrive/Vision/weights.hdf5\n",
            "212/212 [==============================] - 6s 27ms/step - loss: 0.5326 - accuracy: 0.7430 - val_loss: 0.4902 - val_accuracy: 0.7884\n",
            "Epoch 4/50\n",
            "210/212 [============================>.] - ETA: 0s - loss: 0.4231 - accuracy: 0.8182\n",
            "Epoch 4: val_loss improved from 0.49019 to 0.33206, saving model to drive/MyDrive/Vision/weights.hdf5\n",
            "212/212 [==============================] - 6s 27ms/step - loss: 0.4217 - accuracy: 0.8189 - val_loss: 0.3321 - val_accuracy: 0.8642\n",
            "Epoch 5/50\n",
            "211/212 [============================>.] - ETA: 0s - loss: 0.3543 - accuracy: 0.8550\n",
            "Epoch 5: val_loss did not improve from 0.33206\n",
            "212/212 [==============================] - 6s 27ms/step - loss: 0.3543 - accuracy: 0.8551 - val_loss: 0.3437 - val_accuracy: 0.8580\n",
            "Epoch 6/50\n",
            "210/212 [============================>.] - ETA: 0s - loss: 0.3187 - accuracy: 0.8726\n",
            "Epoch 6: val_loss improved from 0.33206 to 0.21741, saving model to drive/MyDrive/Vision/weights.hdf5\n",
            "212/212 [==============================] - 6s 29ms/step - loss: 0.3180 - accuracy: 0.8728 - val_loss: 0.2174 - val_accuracy: 0.9118\n",
            "Epoch 7/50\n",
            "211/212 [============================>.] - ETA: 0s - loss: 0.2923 - accuracy: 0.8749\n",
            "Epoch 7: val_loss improved from 0.21741 to 0.19928, saving model to drive/MyDrive/Vision/weights.hdf5\n",
            "212/212 [==============================] - 6s 27ms/step - loss: 0.2920 - accuracy: 0.8749 - val_loss: 0.1993 - val_accuracy: 0.9221\n",
            "Epoch 8/50\n",
            "210/212 [============================>.] - ETA: 0s - loss: 0.2786 - accuracy: 0.8905\n",
            "Epoch 8: val_loss did not improve from 0.19928\n",
            "212/212 [==============================] - 6s 26ms/step - loss: 0.2784 - accuracy: 0.8904 - val_loss: 0.2246 - val_accuracy: 0.9049\n",
            "Epoch 9/50\n",
            "211/212 [============================>.] - ETA: 0s - loss: 0.2696 - accuracy: 0.8898\n",
            "Epoch 9: val_loss improved from 0.19928 to 0.19237, saving model to drive/MyDrive/Vision/weights.hdf5\n",
            "212/212 [==============================] - 6s 29ms/step - loss: 0.2696 - accuracy: 0.8900 - val_loss: 0.1924 - val_accuracy: 0.9228\n",
            "Epoch 10/50\n",
            "211/212 [============================>.] - ETA: 0s - loss: 0.2642 - accuracy: 0.8948\n",
            "Epoch 10: val_loss did not improve from 0.19237\n",
            "212/212 [==============================] - 6s 28ms/step - loss: 0.2646 - accuracy: 0.8947 - val_loss: 0.2611 - val_accuracy: 0.8918\n",
            "Epoch 11/50\n",
            "211/212 [============================>.] - ETA: 0s - loss: 0.2513 - accuracy: 0.8971\n",
            "Epoch 11: val_loss did not improve from 0.19237\n",
            "212/212 [==============================] - 6s 27ms/step - loss: 0.2516 - accuracy: 0.8970 - val_loss: 0.1994 - val_accuracy: 0.9139\n",
            "Epoch 12/50\n",
            "210/212 [============================>.] - ETA: 0s - loss: 0.2447 - accuracy: 0.9037\n",
            "Epoch 12: val_loss improved from 0.19237 to 0.18437, saving model to drive/MyDrive/Vision/weights.hdf5\n",
            "212/212 [==============================] - 7s 32ms/step - loss: 0.2446 - accuracy: 0.9035 - val_loss: 0.1844 - val_accuracy: 0.9304\n",
            "Epoch 13/50\n",
            "211/212 [============================>.] - ETA: 0s - loss: 0.2193 - accuracy: 0.9107\n",
            "Epoch 13: val_loss did not improve from 0.18437\n",
            "212/212 [==============================] - 6s 27ms/step - loss: 0.2194 - accuracy: 0.9108 - val_loss: 0.1901 - val_accuracy: 0.9228\n",
            "Epoch 14/50\n",
            "212/212 [==============================] - ETA: 0s - loss: 0.2247 - accuracy: 0.9109\n",
            "Epoch 14: val_loss did not improve from 0.18437\n",
            "212/212 [==============================] - 6s 27ms/step - loss: 0.2247 - accuracy: 0.9109 - val_loss: 0.1918 - val_accuracy: 0.9228\n",
            "Epoch 15/50\n",
            "211/212 [============================>.] - ETA: 0s - loss: 0.2258 - accuracy: 0.9116\n",
            "Epoch 15: val_loss did not improve from 0.18437\n",
            "212/212 [==============================] - 6s 28ms/step - loss: 0.2259 - accuracy: 0.9114 - val_loss: 0.2132 - val_accuracy: 0.9187\n",
            "Epoch 16/50\n",
            "211/212 [============================>.] - ETA: 0s - loss: 0.2256 - accuracy: 0.9125\n",
            "Epoch 16: val_loss did not improve from 0.18437\n",
            "212/212 [==============================] - 6s 27ms/step - loss: 0.2257 - accuracy: 0.9124 - val_loss: 0.2242 - val_accuracy: 0.9056\n",
            "Epoch 17/50\n",
            "212/212 [==============================] - ETA: 0s - loss: 0.2143 - accuracy: 0.9170\n",
            "Epoch 17: val_loss did not improve from 0.18437\n",
            "212/212 [==============================] - 6s 27ms/step - loss: 0.2143 - accuracy: 0.9170 - val_loss: 0.2263 - val_accuracy: 0.9125\n",
            "Epoch 18/50\n",
            "211/212 [============================>.] - ETA: 0s - loss: 0.1987 - accuracy: 0.9215\n",
            "Epoch 18: val_loss did not improve from 0.18437\n",
            "212/212 [==============================] - 6s 27ms/step - loss: 0.1987 - accuracy: 0.9214 - val_loss: 0.1916 - val_accuracy: 0.9228\n",
            "Epoch 19/50\n",
            "211/212 [============================>.] - ETA: 0s - loss: 0.1969 - accuracy: 0.9252\n",
            "Epoch 19: val_loss did not improve from 0.18437\n",
            "212/212 [==============================] - 6s 27ms/step - loss: 0.1967 - accuracy: 0.9253 - val_loss: 0.2140 - val_accuracy: 0.9180\n",
            "Epoch 20/50\n",
            "211/212 [============================>.] - ETA: 0s - loss: 0.1975 - accuracy: 0.9208\n",
            "Epoch 20: val_loss improved from 0.18437 to 0.16360, saving model to drive/MyDrive/Vision/weights.hdf5\n",
            "212/212 [==============================] - 7s 32ms/step - loss: 0.1976 - accuracy: 0.9205 - val_loss: 0.1636 - val_accuracy: 0.9331\n",
            "Epoch 21/50\n",
            "211/212 [============================>.] - ETA: 0s - loss: 0.1967 - accuracy: 0.9214\n",
            "Epoch 21: val_loss did not improve from 0.16360\n",
            "212/212 [==============================] - 6s 27ms/step - loss: 0.1962 - accuracy: 0.9216 - val_loss: 0.1790 - val_accuracy: 0.9297\n",
            "Epoch 22/50\n",
            "211/212 [============================>.] - ETA: 0s - loss: 0.1979 - accuracy: 0.9218\n",
            "Epoch 22: val_loss did not improve from 0.16360\n",
            "212/212 [==============================] - 6s 27ms/step - loss: 0.1978 - accuracy: 0.9219 - val_loss: 0.2391 - val_accuracy: 0.9001\n",
            "Epoch 23/50\n",
            "210/212 [============================>.] - ETA: 0s - loss: 0.1921 - accuracy: 0.9268\n",
            "Epoch 23: val_loss improved from 0.16360 to 0.14872, saving model to drive/MyDrive/Vision/weights.hdf5\n",
            "212/212 [==============================] - 6s 29ms/step - loss: 0.1919 - accuracy: 0.9269 - val_loss: 0.1487 - val_accuracy: 0.9421\n",
            "Epoch 24/50\n",
            "210/212 [============================>.] - ETA: 0s - loss: 0.1847 - accuracy: 0.9251\n",
            "Epoch 24: val_loss did not improve from 0.14872\n",
            "212/212 [==============================] - 6s 27ms/step - loss: 0.1848 - accuracy: 0.9251 - val_loss: 0.2177 - val_accuracy: 0.9173\n",
            "Epoch 25/50\n",
            "210/212 [============================>.] - ETA: 0s - loss: 0.1891 - accuracy: 0.9266\n",
            "Epoch 25: val_loss did not improve from 0.14872\n",
            "212/212 [==============================] - 6s 27ms/step - loss: 0.1890 - accuracy: 0.9266 - val_loss: 0.2326 - val_accuracy: 0.9090\n",
            "Epoch 26/50\n",
            "212/212 [==============================] - ETA: 0s - loss: 0.1854 - accuracy: 0.9256\n",
            "Epoch 26: val_loss did not improve from 0.14872\n",
            "212/212 [==============================] - 6s 27ms/step - loss: 0.1854 - accuracy: 0.9256 - val_loss: 0.1736 - val_accuracy: 0.9325\n",
            "Epoch 27/50\n",
            "210/212 [============================>.] - ETA: 0s - loss: 0.1672 - accuracy: 0.9362\n",
            "Epoch 27: val_loss did not improve from 0.14872\n",
            "212/212 [==============================] - 6s 27ms/step - loss: 0.1668 - accuracy: 0.9363 - val_loss: 0.1618 - val_accuracy: 0.9359\n",
            "Epoch 28/50\n",
            "212/212 [==============================] - ETA: 0s - loss: 0.1702 - accuracy: 0.9319\n",
            "Epoch 28: val_loss improved from 0.14872 to 0.14333, saving model to drive/MyDrive/Vision/weights.hdf5\n",
            "212/212 [==============================] - 7s 31ms/step - loss: 0.1702 - accuracy: 0.9319 - val_loss: 0.1433 - val_accuracy: 0.9449\n",
            "Epoch 29/50\n",
            "210/212 [============================>.] - ETA: 0s - loss: 0.1676 - accuracy: 0.9376\n",
            "Epoch 29: val_loss did not improve from 0.14333\n",
            "212/212 [==============================] - 6s 28ms/step - loss: 0.1678 - accuracy: 0.9377 - val_loss: 0.1589 - val_accuracy: 0.9338\n",
            "Epoch 30/50\n",
            "211/212 [============================>.] - ETA: 0s - loss: 0.1725 - accuracy: 0.9348\n",
            "Epoch 30: val_loss did not improve from 0.14333\n",
            "212/212 [==============================] - 6s 28ms/step - loss: 0.1723 - accuracy: 0.9349 - val_loss: 0.1862 - val_accuracy: 0.9331\n",
            "Epoch 31/50\n",
            "212/212 [==============================] - ETA: 0s - loss: 0.1652 - accuracy: 0.9356\n",
            "Epoch 31: val_loss did not improve from 0.14333\n",
            "212/212 [==============================] - 6s 26ms/step - loss: 0.1652 - accuracy: 0.9356 - val_loss: 0.1619 - val_accuracy: 0.9331\n",
            "Epoch 32/50\n",
            "211/212 [============================>.] - ETA: 0s - loss: 0.1554 - accuracy: 0.9384\n",
            "Epoch 32: val_loss did not improve from 0.14333\n",
            "212/212 [==============================] - 6s 26ms/step - loss: 0.1561 - accuracy: 0.9381 - val_loss: 0.2439 - val_accuracy: 0.9035\n",
            "Epoch 33/50\n",
            "211/212 [============================>.] - ETA: 0s - loss: 0.1514 - accuracy: 0.9422\n",
            "Epoch 33: val_loss did not improve from 0.14333\n",
            "212/212 [==============================] - 6s 26ms/step - loss: 0.1514 - accuracy: 0.9419 - val_loss: 0.1909 - val_accuracy: 0.9276\n",
            "Epoch 34/50\n",
            "212/212 [==============================] - ETA: 0s - loss: 0.1563 - accuracy: 0.9405\n",
            "Epoch 34: val_loss did not improve from 0.14333\n",
            "212/212 [==============================] - 6s 26ms/step - loss: 0.1563 - accuracy: 0.9405 - val_loss: 0.1726 - val_accuracy: 0.9387\n",
            "Epoch 35/50\n",
            "211/212 [============================>.] - ETA: 0s - loss: 0.1665 - accuracy: 0.9331\n",
            "Epoch 35: val_loss did not improve from 0.14333\n",
            "212/212 [==============================] - 6s 26ms/step - loss: 0.1663 - accuracy: 0.9332 - val_loss: 0.1737 - val_accuracy: 0.9290\n",
            "Epoch 36/50\n",
            "212/212 [==============================] - ETA: 0s - loss: 0.1523 - accuracy: 0.9402\n",
            "Epoch 36: val_loss did not improve from 0.14333\n",
            "212/212 [==============================] - 6s 27ms/step - loss: 0.1523 - accuracy: 0.9402 - val_loss: 0.2175 - val_accuracy: 0.9118\n",
            "Epoch 37/50\n",
            "210/212 [============================>.] - ETA: 0s - loss: 0.1572 - accuracy: 0.9366\n",
            "Epoch 37: val_loss improved from 0.14333 to 0.14286, saving model to drive/MyDrive/Vision/weights.hdf5\n",
            "212/212 [==============================] - 6s 29ms/step - loss: 0.1569 - accuracy: 0.9368 - val_loss: 0.1429 - val_accuracy: 0.9428\n",
            "Epoch 38/50\n",
            "212/212 [==============================] - ETA: 0s - loss: 0.1539 - accuracy: 0.9415\n",
            "Epoch 38: val_loss did not improve from 0.14286\n",
            "212/212 [==============================] - 6s 26ms/step - loss: 0.1539 - accuracy: 0.9415 - val_loss: 0.2006 - val_accuracy: 0.9242\n",
            "Epoch 39/50\n",
            "212/212 [==============================] - ETA: 0s - loss: 0.1490 - accuracy: 0.9406\n",
            "Epoch 39: val_loss did not improve from 0.14286\n",
            "212/212 [==============================] - 6s 27ms/step - loss: 0.1490 - accuracy: 0.9406 - val_loss: 0.1709 - val_accuracy: 0.9318\n",
            "Epoch 40/50\n",
            "212/212 [==============================] - ETA: 0s - loss: 0.1401 - accuracy: 0.9434\n",
            "Epoch 40: val_loss did not improve from 0.14286\n",
            "212/212 [==============================] - 6s 27ms/step - loss: 0.1401 - accuracy: 0.9434 - val_loss: 0.1879 - val_accuracy: 0.9331\n",
            "Epoch 41/50\n",
            "210/212 [============================>.] - ETA: 0s - loss: 0.1420 - accuracy: 0.9454\n",
            "Epoch 41: val_loss did not improve from 0.14286\n",
            "212/212 [==============================] - 6s 27ms/step - loss: 0.1416 - accuracy: 0.9455 - val_loss: 0.2090 - val_accuracy: 0.9290\n",
            "Epoch 42/50\n",
            "211/212 [============================>.] - ETA: 0s - loss: 0.1730 - accuracy: 0.9336\n",
            "Epoch 42: val_loss did not improve from 0.14286\n",
            "212/212 [==============================] - 6s 27ms/step - loss: 0.1730 - accuracy: 0.9338 - val_loss: 0.1433 - val_accuracy: 0.9387\n",
            "Epoch 43/50\n",
            "211/212 [============================>.] - ETA: 0s - loss: 0.1470 - accuracy: 0.9433\n",
            "Epoch 43: val_loss did not improve from 0.14286\n",
            "212/212 [==============================] - 6s 27ms/step - loss: 0.1471 - accuracy: 0.9431 - val_loss: 0.1769 - val_accuracy: 0.9325\n",
            "Epoch 44/50\n",
            "212/212 [==============================] - ETA: 0s - loss: 0.1321 - accuracy: 0.9510\n",
            "Epoch 44: val_loss did not improve from 0.14286\n",
            "212/212 [==============================] - 6s 27ms/step - loss: 0.1321 - accuracy: 0.9510 - val_loss: 0.1676 - val_accuracy: 0.9400\n",
            "Epoch 45/50\n",
            "211/212 [============================>.] - ETA: 0s - loss: 0.1365 - accuracy: 0.9467\n",
            "Epoch 45: val_loss did not improve from 0.14286\n",
            "212/212 [==============================] - 6s 27ms/step - loss: 0.1364 - accuracy: 0.9467 - val_loss: 0.1782 - val_accuracy: 0.9359\n",
            "Epoch 46/50\n",
            "211/212 [============================>.] - ETA: 0s - loss: 0.1270 - accuracy: 0.9528\n",
            "Epoch 46: val_loss did not improve from 0.14286\n",
            "212/212 [==============================] - 6s 27ms/step - loss: 0.1268 - accuracy: 0.9529 - val_loss: 0.1687 - val_accuracy: 0.9331\n",
            "Epoch 47/50\n",
            "210/212 [============================>.] - ETA: 0s - loss: 0.1282 - accuracy: 0.9510\n",
            "Epoch 47: val_loss did not improve from 0.14286\n",
            "212/212 [==============================] - 6s 27ms/step - loss: 0.1283 - accuracy: 0.9508 - val_loss: 0.1650 - val_accuracy: 0.9387\n"
          ]
        }
      ],
      "source": [
        "checkpointer = tf.keras.callbacks.ModelCheckpoint(filepath=\"drive/MyDrive/Vision/CNN_Model.hdf5\", verbose=1, save_best_only=True)\n",
        "nb_epochs = 50\n",
        "\n",
        "#CallBacks Function\n",
        "from keras.callbacks import EarlyStopping\n",
        "from keras.callbacks import ReduceLROnPlateau\n",
        "early_stop=EarlyStopping(monitor=\"val_loss\",\n",
        "                         patience=10,\n",
        "                         mode=\"auto\",)\n",
        "\n",
        "callbacks=[early_stop,checkpointer]\n",
        "\n",
        "hist=model.fit(\n",
        "    x_train,y_train, validation_data=[x_val,y_val],\n",
        "    epochs=nb_epochs,\n",
        "    callbacks=callbacks,\n",
        "    )\n",
        "\n",
        "\n"
      ]
    },
    {
      "cell_type": "markdown",
      "source": [
        "## We get a final accuracy score of 95.08% on the training data\n",
        "## We get a final accuracy score of 93.87% on the validation data"
      ],
      "metadata": {
        "id": "vqQMoDybCX_O"
      }
    },
    {
      "cell_type": "markdown",
      "source": [
        "## Plotting the accuracy "
      ],
      "metadata": {
        "id": "-NRNETCGCkL_"
      }
    },
    {
      "cell_type": "code",
      "execution_count": null,
      "metadata": {
        "colab": {
          "base_uri": "https://localhost:8080/",
          "height": 295
        },
        "id": "nRvbLOoNCllB",
        "outputId": "5a469b39-81bb-4b3d-dcdc-9143fb1a7f85"
      },
      "outputs": [
        {
          "output_type": "display_data",
          "data": {
            "text/plain": [
              "<Figure size 432x288 with 1 Axes>"
            ],
            "image/png": "[encoded data removed]"
          },
          "metadata": {
            "needs_background": "light"
          }
        }
      ],
      "source": [
        "plt.plot(hist.history['accuracy'])\n",
        "plt.plot(hist.history['val_accuracy'])\n",
        "plt.title('model accuracy')\n",
        "plt.ylabel('accuracy')\n",
        "plt.xlabel('epoch')\n",
        "plt.legend(['train', 'val'], loc='upper left')\n",
        "plt.show()"
      ]
    },
    {
      "cell_type": "markdown",
      "source": [
        "#Plotting the model loss"
      ],
      "metadata": {
        "id": "Uj0w1DcpCnNW"
      }
    },
    {
      "cell_type": "code",
      "execution_count": null,
      "metadata": {
        "colab": {
          "base_uri": "https://localhost:8080/",
          "height": 295
        },
        "id": "gruLgrzRJSvk",
        "outputId": "3912f701-b6d1-4d82-e425-ce1069036d7d"
      },
      "outputs": [
        {
          "output_type": "display_data",
          "data": {
            "text/plain": [
              "<Figure size 432x288 with 1 Axes>"
            ],
            "image/png": "[encoded data removed]"
          },
          "metadata": {
            "needs_background": "light"
          }
        }
      ],
      "source": [
        "plt.plot(hist.history['loss'])\n",
        "plt.plot(hist.history['val_loss'])\n",
        "plt.title('model loss')\n",
        "plt.ylabel('loss')\n",
        "plt.xlabel('epoch')\n",
        "plt.legend(['train', 'val'], loc='upper left')\n",
        "plt.show()"
      ]
    },
    {
      "cell_type": "code",
      "execution_count": null,
      "metadata": {
        "id": "P3VUct1-YAlC"
      },
      "outputs": [],
      "source": [
        "from sklearn.metrics import classification_report\n",
        "y_pred=model.predict(x_test)\n",
        "for x in range(len(y_pred)):\n",
        "  if y_pred[x]<0.5:\n",
        "    y_pred[x]=0\n",
        "  else:\n",
        "    y_pred[x]=1"
      ]
    },
    {
      "cell_type": "code",
      "execution_count": null,
      "metadata": {
        "colab": {
          "base_uri": "https://localhost:8080/"
        },
        "id": "HCEFCoGzMSBI",
        "outputId": "55e0a56c-9917-4a95-cf15-2602dc3ddae5"
      },
      "outputs": [
        {
          "output_type": "execute_result",
          "data": {
            "text/plain": [
              "array([[728,  41],\n",
              "       [ 54, 628]])"
            ]
          },
          "metadata": {},
          "execution_count": 16
        }
      ],
      "source": [
        "from sklearn.metrics import confusion_matrix\n",
        "confusion_matrix(y_test,y_pred)"
      ]
    },
    {
      "cell_type": "code",
      "execution_count": null,
      "metadata": {
        "colab": {
          "base_uri": "https://localhost:8080/"
        },
        "id": "eA5mqjKPu31h",
        "outputId": "91c0675f-b2a5-4d14-a270-2f54d22205c0"
      },
      "outputs": [
        {
          "output_type": "stream",
          "name": "stdout",
          "text": [
            "              precision    recall  f1-score   support\n",
            "\n",
            "           0       0.93      0.95      0.94       769\n",
            "           1       0.94      0.92      0.93       682\n",
            "\n",
            "    accuracy                           0.93      1451\n",
            "   macro avg       0.93      0.93      0.93      1451\n",
            "weighted avg       0.93      0.93      0.93      1451\n",
            "\n"
          ]
        }
      ],
      "source": [
        "from sklearn.metrics import classification_report\n",
        "print(classification_report(y_test,y_pred))"
      ]
    }
  ],
  "metadata": {
    "accelerator": "GPU",
    "colab": {
      "collapsed_sections": [],
      "name": "Melanoma Skin Cancer Detection CNN Model.ipynb",
      "provenance": []
    },
    "gpuClass": "standard",
    "kernelspec": {
      "display_name": "Python 3",
      "name": "python3"
    },
    "language_info": {
      "name": "python"
    }
  },
  "nbformat": 4,
  "nbformat_minor": 0
}