{
  "cells": [
    {
      "cell_type": "code",
      "execution_count": null,
      "metadata": {
        "colab": {
          "base_uri": "https://localhost:8080/"
        },
        "id": "WN0XENtm37Pg",
        "outputId": "6dae08f6-0f8c-48ef-d9ed-98a8fb8c99ee"
      },
      "outputs": [
        {
          "output_type": "stream",
          "name": "stdout",
          "text": [
            "Mounted at /content/drive\n"
          ]
        }
      ],
      "source": [
        "from google.colab import drive\n",
        "drive.mount('/content/drive')"
      ]
    },
    {
      "cell_type": "code",
      "execution_count": null,
      "metadata": {
        "colab": {
          "base_uri": "https://localhost:8080/"
        },
        "id": "OnHwOmrj4Nq4",
        "outputId": "d24d4fb2-0ca3-4b5a-83e6-d5bee2b1d714"
      },
      "outputs": [
        {
          "output_type": "stream",
          "name": "stdout",
          "text": [
            "drive  sample_data\n"
          ]
        }
      ],
      "source": [
        "!ls"
      ]
    },
    {
      "cell_type": "code",
      "execution_count": null,
      "metadata": {
        "id": "Kv8VcaU543ZS"
      },
      "outputs": [],
      "source": [
        "\n",
        "import os\n",
        "import cv2\n",
        "import numpy as np\n",
        "import pandas as pd\n",
        "import tensorflow as tf\n",
        "from tensorflow.keras import layers\n",
        "from tensorflow.keras.models import Sequential\n",
        "from tensorflow.keras.optimizers import Adam\n",
        "import matplotlib.pyplot as plt\n",
        "from sklearn.metrics import classification_report, accuracy_score\n",
        "from tqdm import tqdm\n",
        "%matplotlib inline\n",
        "#from keras.preprocessing import image\n",
        "import tensorflow.keras.applications.densenet as dense\n",
        "import seaborn as sns"
      ]
    },
    {
      "cell_type": "markdown",
      "source": [
        "## Train image and Train data csv file directory"
      ],
      "metadata": {
        "id": "Iu_KTkJZDBP_"
      }
    },
    {
      "cell_type": "code",
      "execution_count": null,
      "metadata": {
        "id": "jSs0Yg3v5jcx"
      },
      "outputs": [],
      "source": [
        "train_img_dir = 'drive/MyDrive/Vision/data/train/'\n",
        "train = pd.read_csv('drive/MyDrive/Vision/data/ISIC_2020_Training_GroundTruth_v2.csv')\n"
      ]
    },
    {
      "cell_type": "markdown",
      "source": [
        "## Load the data saved earlier after data augmentation using pickle library"
      ],
      "metadata": {
        "id": "p1KsPvfADJA5"
      }
    },
    {
      "cell_type": "code",
      "execution_count": null,
      "metadata": {
        "id": "j5uxSdmSsEig"
      },
      "outputs": [],
      "source": [
        "data=[]\n",
        "labels=[]\n",
        "import pickle\n",
        "with open('drive/MyDrive/datax.pkl','rb') as f:\n",
        "  data=pickle.load(f)\n",
        "\n",
        "with open('drive/MyDrive/labelsx.pkl','rb') as f:\n",
        "  labels=pickle.load(f)\n",
        "\n"
      ]
    },
    {
      "cell_type": "markdown",
      "source": [
        "Split the data into training testing and validation\n",
        "Training data percentage = 70%\n",
        "Validation data percentage= 10%\n",
        "Testing data percentage= 10%"
      ],
      "metadata": {
        "id": "p3LPkUb2DW9P"
      }
    },
    {
      "cell_type": "code",
      "execution_count": null,
      "metadata": {
        "colab": {
          "base_uri": "https://localhost:8080/",
          "height": 53
        },
        "id": "eVPxjGgOl6ZK",
        "outputId": "cfbcad2f-7201-40c0-e54d-11ceffda4191"
      },
      "outputs": [
        {
          "output_type": "execute_result",
          "data": {
            "text/plain": [
              "\"train_gen = pd.DataFrame({'image_dir': x_train, 'target': y_train})\\nval_gen = pd.DataFrame({'image_dir': x_val, 'target': y_val})\\ntest_gen=pd.DataFrame({'image_dir': x_test, 'target': y_test})\\ntest_gen\""
            ],
            "application/vnd.google.colaboratory.intrinsic+json": {
              "type": "string"
            }
          },
          "metadata": {},
          "execution_count": 7
        }
      ],
      "source": [
        "from sklearn.model_selection import train_test_split\n",
        "x_train,x_test,y_train,y_test=train_test_split(data,labels,test_size=0.3,random_state=42, shuffle=True)\n",
        "\n",
        "x_test,x_val,y_test,y_val=train_test_split(x_test,y_test,test_size=0.5,random_state=42, shuffle=True)\n"
      ]
    },
    {
      "cell_type": "markdown",
      "source": [
        "## Save Memory"
      ],
      "metadata": {
        "id": "dUBzPoR9DYPe"
      }
    },
    {
      "cell_type": "code",
      "execution_count": null,
      "metadata": {
        "id": "IStlXIv9HPi7"
      },
      "outputs": [],
      "source": [
        "del data\n",
        "del labels"
      ]
    },
    {
      "cell_type": "code",
      "execution_count": null,
      "metadata": {
        "id": "BEEUpqUaXtDB"
      },
      "outputs": [],
      "source": [
        "from keras.layers import Dense, Flatten, Conv2D, MaxPooling2D, Dropout\n",
        "from tensorflow.keras import layers\n",
        "from keras.metrics import AUC\n",
        "from keras.activations import sigmoid\n",
        "from keras import Model"
      ]
    },
    {
      "cell_type": "markdown",
      "source": [
        "## We used pretrained Xception model, add more layers to it and then train and validate it on our data.\n",
        "## Layers added:\n",
        "## Global Average Pooling Layers\n",
        "## Dense Layers\n",
        "## Dropout to prevent from overfitting\n",
        "## Optimizer: Adam\n",
        "## Loss: Binary CrossEntropy\n",
        "## Activation: Sigmoid"
      ],
      "metadata": {
        "id": "hZivMNaJD2oz"
      }
    },
    {
      "cell_type": "code",
      "source": [
        "import tensorflow.keras.applications.xception as xcep\n",
        "model = tf.keras.Sequential([\n",
        "    xcep.Xception(\n",
        "        input_shape=(128, 128, 3),\n",
        "        weights='imagenet',\n",
        "        include_top=False\n",
        "    ),\n",
        "    layers.GlobalAveragePooling2D(),\n",
        "    layers.Dense(1024, activation= 'relu'), \n",
        "    layers.Dropout(0.2),\n",
        "    layers.Dense(512, activation= 'relu'), \n",
        "    layers.Dropout(0.2), \n",
        "    layers.Dense(256, activation='relu'), \n",
        "    layers.Dropout(0.2), \n",
        "    layers.Dense(128, activation='relu'), \n",
        "    layers.Dropout(0.1),\n",
        "    layers.Dense(64, activation='relu'), \n",
        "    layers.Dropout(0.1),\n",
        "    layers.Dense(1, activation='sigmoid')\n",
        "])\n",
        "    \n",
        "model.compile(\n",
        "    optimizer='adam',\n",
        "    loss = 'binary_crossentropy',\n",
        "    metrics=['accuracy']\n",
        ")\n",
        "model.summary()"
      ],
      "metadata": {
        "colab": {
          "base_uri": "https://localhost:8080/"
        },
        "id": "8l0rrGTRzHet",
        "outputId": "ccb7c53e-7d08-4cd5-e1a2-ca5940b3a03e"
      },
      "execution_count": null,
      "outputs": [
        {
          "output_type": "stream",
          "name": "stdout",
          "text": [
            "Downloading data from https://storage.googleapis.com/tensorflow/keras-applications/xception/xception_weights_tf_dim_ordering_tf_kernels_notop.h5\n",
            "83689472/83683744 [==============================] - 0s 0us/step\n",
            "83697664/83683744 [==============================] - 0s 0us/step\n",
            "Model: \"sequential\"\n",
            "_________________________________________________________________\n",
            " Layer (type)                Output Shape              Param #   \n",
            "=================================================================\n",
            " xception (Functional)       (None, 4, 4, 2048)        20861480  \n",
            "                                                                 \n",
            " global_average_pooling2d (G  (None, 2048)             0         \n",
            " lobalAveragePooling2D)                                          \n",
            "                                                                 \n",
            " dense (Dense)               (None, 1024)              2098176   \n",
            "                                                                 \n",
            " dropout (Dropout)           (None, 1024)              0         \n",
            "                                                                 \n",
            " dense_1 (Dense)             (None, 512)               524800    \n",
            "                                                                 \n",
            " dropout_1 (Dropout)         (None, 512)               0         \n",
            "                                                                 \n",
            " dense_2 (Dense)             (None, 256)               131328    \n",
            "                                                                 \n",
            " dropout_2 (Dropout)         (None, 256)               0         \n",
            "                                                                 \n",
            " dense_3 (Dense)             (None, 128)               32896     \n",
            "                                                                 \n",
            " dropout_3 (Dropout)         (None, 128)               0         \n",
            "                                                                 \n",
            " dense_4 (Dense)             (None, 64)                8256      \n",
            "                                                                 \n",
            " dropout_4 (Dropout)         (None, 64)                0         \n",
            "                                                                 \n",
            " dense_5 (Dense)             (None, 1)                 65        \n",
            "                                                                 \n",
            "=================================================================\n",
            "Total params: 23,657,001\n",
            "Trainable params: 23,602,473\n",
            "Non-trainable params: 54,528\n",
            "_________________________________________________________________\n"
          ]
        }
      ]
    },
    {
      "cell_type": "markdown",
      "source": [
        "## We use early stopping to prevent from overfitting and save the weights"
      ],
      "metadata": {
        "id": "et3wSG8HEaEp"
      }
    },
    {
      "cell_type": "code",
      "execution_count": null,
      "metadata": {
        "id": "nmOXGErXWKOb"
      },
      "outputs": [],
      "source": [
        "nb_epochs = 25"
      ]
    },
    {
      "cell_type": "code",
      "execution_count": null,
      "metadata": {
        "id": "-nOTsPFyWZLt"
      },
      "outputs": [],
      "source": [
        "from keras.callbacks import EarlyStopping\n",
        "from keras.callbacks import ReduceLROnPlateau\n",
        "checkpointer = tf.keras.callbacks.ModelCheckpoint(filepath=\"drive/MyDrive/Vision/weightsxception.hdf5\", verbose=1, save_best_only=True)\n",
        "\n",
        "early_stop=EarlyStopping(monitor=\"val_loss\",\n",
        "                         patience=10,\n",
        "                         mode=\"auto\",)\n",
        "#Learning_rate_reduction=ReduceLROnPlateau(monitor='val_loss',patience=2,verbose=1,factor=0.5,min_lr=0.001)\n",
        "\n",
        "callbacks=[early_stop,checkpointer]"
      ]
    },
    {
      "cell_type": "markdown",
      "source": [
        "## Training the model"
      ],
      "metadata": {
        "id": "V85brjEyEkd7"
      }
    },
    {
      "cell_type": "code",
      "execution_count": null,
      "metadata": {
        "colab": {
          "base_uri": "https://localhost:8080/"
        },
        "id": "qTp8IUVSWfsn",
        "outputId": "aebe7e8f-3bf3-47db-fffb-b5aee2501b80"
      },
      "outputs": [
        {
          "output_type": "stream",
          "name": "stdout",
          "text": [
            "Epoch 1/25\n",
            "212/212 [==============================] - ETA: 0s - loss: 0.1926 - accuracy: 0.9304\n",
            "Epoch 1: val_loss improved from inf to 0.07934, saving model to drive/MyDrive/Vision/weightsxception.hdf5\n",
            "212/212 [==============================] - 64s 210ms/step - loss: 0.1926 - accuracy: 0.9304 - val_loss: 0.0793 - val_accuracy: 0.9828\n",
            "Epoch 2/25\n",
            "212/212 [==============================] - ETA: 0s - loss: 0.0779 - accuracy: 0.9742\n",
            "Epoch 2: val_loss improved from 0.07934 to 0.06721, saving model to drive/MyDrive/Vision/weightsxception.hdf5\n",
            "212/212 [==============================] - 44s 209ms/step - loss: 0.0779 - accuracy: 0.9742 - val_loss: 0.0672 - val_accuracy: 0.9917\n",
            "Epoch 3/25\n",
            "212/212 [==============================] - ETA: 0s - loss: 0.0864 - accuracy: 0.9790\n",
            "Epoch 3: val_loss did not improve from 0.06721\n",
            "212/212 [==============================] - 42s 196ms/step - loss: 0.0864 - accuracy: 0.9790 - val_loss: 16.3744 - val_accuracy: 0.5196\n",
            "Epoch 4/25\n",
            "212/212 [==============================] - ETA: 0s - loss: 0.0974 - accuracy: 0.9761\n",
            "Epoch 4: val_loss improved from 0.06721 to 0.03053, saving model to drive/MyDrive/Vision/weightsxception.hdf5\n",
            "212/212 [==============================] - 46s 215ms/step - loss: 0.0974 - accuracy: 0.9761 - val_loss: 0.0305 - val_accuracy: 0.9938\n",
            "Epoch 5/25\n",
            "212/212 [==============================] - ETA: 0s - loss: 0.0307 - accuracy: 0.9905\n",
            "Epoch 5: val_loss did not improve from 0.03053\n",
            "212/212 [==============================] - 43s 201ms/step - loss: 0.0307 - accuracy: 0.9905 - val_loss: 0.0630 - val_accuracy: 0.9924\n",
            "Epoch 6/25\n",
            "212/212 [==============================] - ETA: 0s - loss: 0.0165 - accuracy: 0.9957\n",
            "Epoch 6: val_loss improved from 0.03053 to 0.01779, saving model to drive/MyDrive/Vision/weightsxception.hdf5\n",
            "212/212 [==============================] - 46s 218ms/step - loss: 0.0165 - accuracy: 0.9957 - val_loss: 0.0178 - val_accuracy: 0.9959\n",
            "Epoch 7/25\n",
            "212/212 [==============================] - ETA: 0s - loss: 0.0230 - accuracy: 0.9942\n",
            "Epoch 7: val_loss did not improve from 0.01779\n",
            "212/212 [==============================] - 43s 205ms/step - loss: 0.0230 - accuracy: 0.9942 - val_loss: 0.0311 - val_accuracy: 0.9972\n",
            "Epoch 8/25\n",
            "212/212 [==============================] - ETA: 0s - loss: 0.0069 - accuracy: 0.9978\n",
            "Epoch 8: val_loss improved from 0.01779 to 0.01450, saving model to drive/MyDrive/Vision/weightsxception.hdf5\n",
            "212/212 [==============================] - 47s 220ms/step - loss: 0.0069 - accuracy: 0.9978 - val_loss: 0.0145 - val_accuracy: 0.9979\n",
            "Epoch 9/25\n",
            "212/212 [==============================] - ETA: 0s - loss: 0.0697 - accuracy: 0.9821\n",
            "Epoch 9: val_loss did not improve from 0.01450\n",
            "212/212 [==============================] - 44s 205ms/step - loss: 0.0697 - accuracy: 0.9821 - val_loss: 0.1003 - val_accuracy: 0.9821\n",
            "Epoch 10/25\n",
            "212/212 [==============================] - ETA: 0s - loss: 0.0263 - accuracy: 0.9917\n",
            "Epoch 10: val_loss did not improve from 0.01450\n",
            "212/212 [==============================] - 44s 205ms/step - loss: 0.0263 - accuracy: 0.9917 - val_loss: 0.0639 - val_accuracy: 0.9841\n",
            "Epoch 11/25\n",
            "212/212 [==============================] - ETA: 0s - loss: 0.0163 - accuracy: 0.9954\n",
            "Epoch 11: val_loss did not improve from 0.01450\n",
            "212/212 [==============================] - 43s 205ms/step - loss: 0.0163 - accuracy: 0.9954 - val_loss: 0.0453 - val_accuracy: 0.9959\n",
            "Epoch 12/25\n",
            "212/212 [==============================] - ETA: 0s - loss: 0.0087 - accuracy: 0.9969\n",
            "Epoch 12: val_loss did not improve from 0.01450\n",
            "212/212 [==============================] - 44s 208ms/step - loss: 0.0087 - accuracy: 0.9969 - val_loss: 0.0188 - val_accuracy: 0.9959\n",
            "Epoch 13/25\n",
            "212/212 [==============================] - ETA: 0s - loss: 0.0040 - accuracy: 0.9985\n",
            "Epoch 13: val_loss did not improve from 0.01450\n",
            "212/212 [==============================] - 44s 207ms/step - loss: 0.0040 - accuracy: 0.9985 - val_loss: 0.0342 - val_accuracy: 0.9910\n",
            "Epoch 14/25\n",
            "212/212 [==============================] - ETA: 0s - loss: 0.0063 - accuracy: 0.9979\n",
            "Epoch 14: val_loss did not improve from 0.01450\n",
            "212/212 [==============================] - 44s 205ms/step - loss: 0.0063 - accuracy: 0.9979 - val_loss: 0.0508 - val_accuracy: 0.9966\n",
            "Epoch 15/25\n",
            "212/212 [==============================] - ETA: 0s - loss: 0.0104 - accuracy: 0.9975\n",
            "Epoch 15: val_loss did not improve from 0.01450\n",
            "212/212 [==============================] - 44s 205ms/step - loss: 0.0104 - accuracy: 0.9975 - val_loss: 0.0806 - val_accuracy: 0.9959\n",
            "Epoch 16/25\n",
            "212/212 [==============================] - ETA: 0s - loss: 0.0155 - accuracy: 0.9960\n",
            "Epoch 16: val_loss did not improve from 0.01450\n",
            "212/212 [==============================] - 43s 204ms/step - loss: 0.0155 - accuracy: 0.9960 - val_loss: 0.0414 - val_accuracy: 0.9917\n",
            "Epoch 17/25\n",
            "212/212 [==============================] - ETA: 0s - loss: 0.0084 - accuracy: 0.9973\n",
            "Epoch 17: val_loss did not improve from 0.01450\n",
            "212/212 [==============================] - 43s 205ms/step - loss: 0.0084 - accuracy: 0.9973 - val_loss: 0.0937 - val_accuracy: 0.9855\n",
            "Epoch 18/25\n",
            "212/212 [==============================] - ETA: 0s - loss: 0.0145 - accuracy: 0.9960\n",
            "Epoch 18: val_loss did not improve from 0.01450\n",
            "212/212 [==============================] - 44s 206ms/step - loss: 0.0145 - accuracy: 0.9960 - val_loss: 0.0318 - val_accuracy: 0.9945\n"
          ]
        }
      ],
      "source": [
        "hist=model.fit(\n",
        "    x_train,y_train, validation_data=[x_val,y_val],\n",
        "    epochs=nb_epochs,\n",
        "    \n",
        "    callbacks=callbacks,\n",
        "     )"
      ]
    },
    {
      "cell_type": "markdown",
      "source": [
        "## The model achieves an accuracy of 99.6% on training data \n",
        "## The model achieves an accuracy of 99.4% on validation data"
      ],
      "metadata": {
        "id": "RQNyh8eJEux9"
      }
    },
    {
      "cell_type": "markdown",
      "source": [
        "## Getting predictions on the test data"
      ],
      "metadata": {
        "id": "4dsMaHY0EqW6"
      }
    },
    {
      "cell_type": "code",
      "execution_count": null,
      "metadata": {
        "id": "7YJxOk16Wmtg"
      },
      "outputs": [],
      "source": [
        "y_pred=model.predict(x_test)\n",
        "for x in range(len(y_pred)):\n",
        "  if y_pred[x]<0.5:\n",
        "    y_pred[x]=0\n",
        "  else:\n",
        "    y_pred[x]=1"
      ]
    },
    {
      "cell_type": "markdown",
      "source": [
        "## Plotting the confusion matrix"
      ],
      "metadata": {
        "id": "nNXdWjdVE5el"
      }
    },
    {
      "cell_type": "code",
      "execution_count": null,
      "metadata": {
        "colab": {
          "base_uri": "https://localhost:8080/"
        },
        "id": "_sArBr06YjAO",
        "outputId": "ab52bdb2-14d0-4253-f0f4-cc0a56a5d4d5"
      },
      "outputs": [
        {
          "output_type": "execute_result",
          "data": {
            "text/plain": [
              "array([[757,  12],\n",
              "       [  1, 681]])"
            ]
          },
          "metadata": {},
          "execution_count": 17
        }
      ],
      "source": [
        "from sklearn.metrics import confusion_matrix\n",
        "confusion_matrix(y_test,y_pred)"
      ]
    },
    {
      "cell_type": "markdown",
      "source": [
        "## Classification report for observing F1-Score, Precision, Recall"
      ],
      "metadata": {
        "id": "wY4pk2AUE8o0"
      }
    },
    {
      "cell_type": "code",
      "execution_count": null,
      "metadata": {
        "colab": {
          "base_uri": "https://localhost:8080/"
        },
        "id": "GMKfqAObYl-n",
        "outputId": "03167ac5-c1ec-4a84-ef7e-e7f928a0b626"
      },
      "outputs": [
        {
          "output_type": "stream",
          "name": "stdout",
          "text": [
            "              precision    recall  f1-score   support\n",
            "\n",
            "           0       1.00      0.98      0.99       769\n",
            "           1       0.98      1.00      0.99       682\n",
            "\n",
            "    accuracy                           0.99      1451\n",
            "   macro avg       0.99      0.99      0.99      1451\n",
            "weighted avg       0.99      0.99      0.99      1451\n",
            "\n"
          ]
        }
      ],
      "source": [
        "from sklearn.metrics import classification_report\n",
        "print(classification_report(y_test,y_pred))"
      ]
    },
    {
      "cell_type": "markdown",
      "source": [
        "## Loss Graph of Model"
      ],
      "metadata": {
        "id": "v-OqVlSxFDLR"
      }
    },
    {
      "cell_type": "code",
      "execution_count": null,
      "metadata": {
        "id": "Jzn9HgEFYpqn",
        "colab": {
          "base_uri": "https://localhost:8080/",
          "height": 295
        },
        "outputId": "11b66ebf-a51a-40df-af9e-f7baca98af50"
      },
      "outputs": [
        {
          "output_type": "display_data",
          "data": {
            "text/plain": [
              "<Figure size 432x288 with 1 Axes>"
            ],
            "image/png": "[encoded data removed]"
          },
          "metadata": {
            "needs_background": "light"
          }
        }
      ],
      "source": [
        "plt.plot(hist.history['loss'])\n",
        "plt.plot(hist.history['val_loss'])\n",
        "plt.title('model loss')\n",
        "plt.ylabel('loss')\n",
        "plt.xlabel('epoch')\n",
        "plt.legend(['train', 'val'], loc='upper left')\n",
        "plt.show()"
      ]
    },
    {
      "cell_type": "code",
      "source": [
        ""
      ],
      "metadata": {
        "id": "uDxOuLTAt3Cp"
      },
      "execution_count": null,
      "outputs": []
    }
  ],
  "metadata": {
    "accelerator": "GPU",
    "colab": {
      "collapsed_sections": [],
      "name": "Melanoma Skin Cancer Detection Transfer Learning and Fine Tuning.ipynb",
      "provenance": []
    },
    "gpuClass": "standard",
    "kernelspec": {
      "display_name": "Python 3",
      "name": "python3"
    },
    "language_info": {
      "name": "python"
    }
  },
  "nbformat": 4,
  "nbformat_minor": 0
}